{
 "cells": [
  {
   "cell_type": "code",
   "execution_count": 1,
   "metadata": {
    "collapsed": true
   },
   "outputs": [],
   "source": [
    "##################################################\n",
    "##################################################\n",
    "######## IMPORT THE RELEVANT LIBRARIES\n",
    "##################################################\n",
    "##################################################\n",
    "import pandas as pd\n",
    "import numpy as np\n",
    "import seaborn as sns\n",
    "import matplotlib.pyplot as plt\n",
    "\n",
    "from urllib.request import urlopen\n",
    "from bs4 import BeautifulSoup\n",
    "# setup a style to view ipython notebook graphs\n",
    "sns.set_style('whitegrid')\n",
    "sns.set_context('notebook')\n",
    "\n",
    "%matplotlib inline\n",
    "import datetime\n",
    "\n",
    "from scipy.stats import ttest_ind\n",
    "from matplotlib.ticker import ScalarFormatter, FormatStrFormatter\n",
    "\n"
   ]
  },
  {
   "cell_type": "code",
   "execution_count": 3,
   "metadata": {
    "collapsed": false
   },
   "outputs": [],
   "source": [
    "import pandas as pd\n",
    "from sodapy import Socrata"
   ]
  },
  {
   "cell_type": "code",
   "execution_count": 10,
   "metadata": {
    "collapsed": false
   },
   "outputs": [
    {
     "name": "stderr",
     "output_type": "stream",
     "text": [
      "WARNING:root:Requests made without an app_token will be subject to strict throttling limits.\n"
     ]
    }
   ],
   "source": [
    "####### grabbing the data regarding active dog licenses in 2016\n",
    "client = Socrata(\"data.cityofnewyork.us\", None)\n",
    "results = client.get(\"5hyw-n69x\", limit=200000)\n",
    "active_dog_licenses_2016 = pd.DataFrame.from_records(results)"
   ]
  },
  {
   "cell_type": "code",
   "execution_count": 19,
   "metadata": {
    "collapsed": false
   },
   "outputs": [],
   "source": [
    "######## First thing to note is that each row is not unique, because a dog can have several licenses\n",
    "### we need to make a unique key for each dog\n",
    "\n",
    "unique_dogs = active_dog_licenses_2016[['animalbirth', 'animalgender', 'animalname', 'breedname']].drop_duplicates()\n",
    "unique_dogs['unique_dog_key'] = unique_dogs.index + 1\n"
   ]
  },
  {
   "cell_type": "code",
   "execution_count": 21,
   "metadata": {
    "collapsed": false
   },
   "outputs": [
    {
     "data": {
      "text/html": [
       "<div>\n",
       "<table border=\"1\" class=\"dataframe\">\n",
       "  <thead>\n",
       "    <tr style=\"text-align: right;\">\n",
       "      <th></th>\n",
       "      <th>animalbirth</th>\n",
       "      <th>animalgender</th>\n",
       "      <th>animalname</th>\n",
       "      <th>borough</th>\n",
       "      <th>breedname</th>\n",
       "      <th>censustract2010</th>\n",
       "      <th>citycouncildistrict</th>\n",
       "      <th>communitydistrict</th>\n",
       "      <th>congressionaldistrict</th>\n",
       "      <th>licenseexpireddate</th>\n",
       "      <th>licenseissueddate</th>\n",
       "      <th>nta</th>\n",
       "      <th>rownumber</th>\n",
       "      <th>statesenatorialdistrict</th>\n",
       "      <th>zipcode</th>\n",
       "      <th>unique_dog_key</th>\n",
       "    </tr>\n",
       "  </thead>\n",
       "  <tbody>\n",
       "    <tr>\n",
       "      <th>0</th>\n",
       "      <td>2000-01-01T00:00:00.000</td>\n",
       "      <td>M</td>\n",
       "      <td>SHADOW</td>\n",
       "      <td>Brooklyn</td>\n",
       "      <td>Beagle</td>\n",
       "      <td>1014</td>\n",
       "      <td>46</td>\n",
       "      <td>318</td>\n",
       "      <td>8</td>\n",
       "      <td>2016-01-30T00:00:00.000</td>\n",
       "      <td>2014-12-29T00:00:00.000</td>\n",
       "      <td>BK50</td>\n",
       "      <td>1753</td>\n",
       "      <td>19</td>\n",
       "      <td>11236</td>\n",
       "      <td>1</td>\n",
       "    </tr>\n",
       "    <tr>\n",
       "      <th>1</th>\n",
       "      <td>2000-01-01T00:00:00.000</td>\n",
       "      <td>M</td>\n",
       "      <td>SHADOW</td>\n",
       "      <td>Brooklyn</td>\n",
       "      <td>Beagle</td>\n",
       "      <td>1014</td>\n",
       "      <td>46</td>\n",
       "      <td>318</td>\n",
       "      <td>8</td>\n",
       "      <td>2017-01-30T00:00:00.000</td>\n",
       "      <td>2016-03-11T00:00:00.000</td>\n",
       "      <td>BK50</td>\n",
       "      <td>58229</td>\n",
       "      <td>19</td>\n",
       "      <td>11236</td>\n",
       "      <td>1</td>\n",
       "    </tr>\n",
       "    <tr>\n",
       "      <th>2</th>\n",
       "      <td>2011-10-01T00:00:00.000</td>\n",
       "      <td>M</td>\n",
       "      <td>ROCCO</td>\n",
       "      <td>Brooklyn</td>\n",
       "      <td>Boxer</td>\n",
       "      <td>756</td>\n",
       "      <td>45</td>\n",
       "      <td>314</td>\n",
       "      <td>9</td>\n",
       "      <td>2016-01-30T00:00:00.000</td>\n",
       "      <td>2015-01-07T00:00:00.000</td>\n",
       "      <td>BK43</td>\n",
       "      <td>2415</td>\n",
       "      <td>17</td>\n",
       "      <td>11210</td>\n",
       "      <td>2</td>\n",
       "    </tr>\n",
       "    <tr>\n",
       "      <th>3</th>\n",
       "      <td>2011-10-01T00:00:00.000</td>\n",
       "      <td>M</td>\n",
       "      <td>ROCCO</td>\n",
       "      <td>Brooklyn</td>\n",
       "      <td>Boxer</td>\n",
       "      <td>756</td>\n",
       "      <td>45</td>\n",
       "      <td>314</td>\n",
       "      <td>9</td>\n",
       "      <td>2017-01-30T00:00:00.000</td>\n",
       "      <td>2015-12-14T00:00:00.000</td>\n",
       "      <td>BK43</td>\n",
       "      <td>43341</td>\n",
       "      <td>17</td>\n",
       "      <td>11210</td>\n",
       "      <td>2</td>\n",
       "    </tr>\n",
       "    <tr>\n",
       "      <th>4</th>\n",
       "      <td>2005-09-01T00:00:00.000</td>\n",
       "      <td>M</td>\n",
       "      <td>LUIGI</td>\n",
       "      <td>Bronx</td>\n",
       "      <td>Maltese</td>\n",
       "      <td>516</td>\n",
       "      <td>13</td>\n",
       "      <td>210</td>\n",
       "      <td>14</td>\n",
       "      <td>2016-02-02T00:00:00.000</td>\n",
       "      <td>2015-01-17T00:00:00.000</td>\n",
       "      <td>BX10</td>\n",
       "      <td>3328</td>\n",
       "      <td>34</td>\n",
       "      <td>10464</td>\n",
       "      <td>3</td>\n",
       "    </tr>\n",
       "  </tbody>\n",
       "</table>\n",
       "</div>"
      ],
      "text/plain": [
       "               animalbirth animalgender animalname   borough breedname  \\\n",
       "0  2000-01-01T00:00:00.000            M    SHADOW   Brooklyn    Beagle   \n",
       "1  2000-01-01T00:00:00.000            M    SHADOW   Brooklyn    Beagle   \n",
       "2  2011-10-01T00:00:00.000            M      ROCCO  Brooklyn     Boxer   \n",
       "3  2011-10-01T00:00:00.000            M      ROCCO  Brooklyn     Boxer   \n",
       "4  2005-09-01T00:00:00.000            M      LUIGI     Bronx   Maltese   \n",
       "\n",
       "  censustract2010 citycouncildistrict communitydistrict congressionaldistrict  \\\n",
       "0            1014                  46               318                     8   \n",
       "1            1014                  46               318                     8   \n",
       "2             756                  45               314                     9   \n",
       "3             756                  45               314                     9   \n",
       "4             516                  13               210                    14   \n",
       "\n",
       "        licenseexpireddate        licenseissueddate   nta rownumber  \\\n",
       "0  2016-01-30T00:00:00.000  2014-12-29T00:00:00.000  BK50      1753   \n",
       "1  2017-01-30T00:00:00.000  2016-03-11T00:00:00.000  BK50     58229   \n",
       "2  2016-01-30T00:00:00.000  2015-01-07T00:00:00.000  BK43      2415   \n",
       "3  2017-01-30T00:00:00.000  2015-12-14T00:00:00.000  BK43     43341   \n",
       "4  2016-02-02T00:00:00.000  2015-01-17T00:00:00.000  BX10      3328   \n",
       "\n",
       "  statesenatorialdistrict zipcode  unique_dog_key  \n",
       "0                      19   11236               1  \n",
       "1                      19   11236               1  \n",
       "2                      17   11210               2  \n",
       "3                      17   11210               2  \n",
       "4                      34   10464               3  "
      ]
     },
     "execution_count": 21,
     "metadata": {},
     "output_type": "execute_result"
    }
   ],
   "source": [
    "full_dataset = active_dog_licenses_2016.merge(unique_dogs, on = ['animalbirth', 'animalgender', 'animalname', 'breedname'])\n",
    "\n",
    "###full_dataset.head()"
   ]
  },
  {
   "cell_type": "code",
   "execution_count": 24,
   "metadata": {
    "collapsed": false
   },
   "outputs": [
    {
     "name": "stdout",
     "output_type": "stream",
     "text": [
      "What's the most popular dog breed?\n"
     ]
    }
   ],
   "source": [
    "print(\"What's the most popular dog breed?\")"
   ]
  },
  {
   "cell_type": "code",
   "execution_count": 28,
   "metadata": {
    "collapsed": false
   },
   "outputs": [],
   "source": [
    "#### create a dataframe with the count of unique dogs by breed\n",
    "count_of_dogs_by_breed = full_dataset.groupby('breedname', as_index=False).agg({\"unique_dog_key\": \"nunique\"}).sort_values(by = 'unique_dog_key', ascending = False)\n",
    "#### remove the \"unknown\" group\n",
    "count_of_dogs_by_breed = count_of_dogs_by_breed[count_of_dogs_by_breed['breedname'] != 'Unknown']"
   ]
  },
  {
   "cell_type": "code",
   "execution_count": 35,
   "metadata": {
    "collapsed": false
   },
   "outputs": [
    {
     "data": {
      "text/plain": [
       "<matplotlib.axes._subplots.AxesSubplot at 0x11a401780>"
      ]
     },
     "execution_count": 35,
     "metadata": {},
     "output_type": "execute_result"
    },
    {
     "data": {
      "image/png": "[encoded data removed]",
      "text/plain": [
       "<matplotlib.figure.Figure at 0x11a40c4a8>"
      ]
     },
     "metadata": {},
     "output_type": "display_data"
    }
   ],
   "source": [
    "count_of_dogs_by_breed.head(5).plot(kind='bar')"
   ]
  },
  {
   "cell_type": "code",
   "execution_count": 33,
   "metadata": {
    "collapsed": false
   },
   "outputs": [
    {
     "data": {
      "text/html": [
       "<div>\n",
       "<table border=\"1\" class=\"dataframe\">\n",
       "  <thead>\n",
       "    <tr style=\"text-align: right;\">\n",
       "      <th></th>\n",
       "      <th>breedname</th>\n",
       "      <th>unique_dog_key</th>\n",
       "    </tr>\n",
       "  </thead>\n",
       "  <tbody>\n",
       "    <tr>\n",
       "      <th>297</th>\n",
       "      <td>Yorkshire Terrier</td>\n",
       "      <td>6637</td>\n",
       "    </tr>\n",
       "    <tr>\n",
       "      <th>258</th>\n",
       "      <td>Shih Tzu</td>\n",
       "      <td>6167</td>\n",
       "    </tr>\n",
       "    <tr>\n",
       "      <th>76</th>\n",
       "      <td>Chihuahua</td>\n",
       "      <td>5164</td>\n",
       "    </tr>\n",
       "    <tr>\n",
       "      <th>174</th>\n",
       "      <td>Maltese</td>\n",
       "      <td>3747</td>\n",
       "    </tr>\n",
       "    <tr>\n",
       "      <th>166</th>\n",
       "      <td>Labrador Retriever</td>\n",
       "      <td>3686</td>\n",
       "    </tr>\n",
       "  </tbody>\n",
       "</table>\n",
       "</div>"
      ],
      "text/plain": [
       "              breedname  unique_dog_key\n",
       "297   Yorkshire Terrier            6637\n",
       "258            Shih Tzu            6167\n",
       "76            Chihuahua            5164\n",
       "174             Maltese            3747\n",
       "166  Labrador Retriever            3686"
      ]
     },
     "execution_count": 33,
     "metadata": {},
     "output_type": "execute_result"
    }
   ],
   "source": [
    "count_of_dogs_by_breed.head()"
   ]
  },
  {
   "cell_type": "code",
   "execution_count": null,
   "metadata": {
    "collapsed": true
   },
   "outputs": [],
   "source": []
  }
 ],
 "metadata": {
  "anaconda-cloud": {},
  "kernelspec": {
   "display_name": "Python 3",
   "language": "python",
   "name": "python3"
  },
  "language_info": {
   "codemirror_mode": {
    "name": "ipython",
    "version": 3
   },
   "file_extension": ".py",
   "mimetype": "text/x-python",
   "name": "python",
   "nbconvert_exporter": "python",
   "pygments_lexer": "ipython3",
   "version": "3.5.2"
  }
 },
 "nbformat": 4,
 "nbformat_minor": 1
}
